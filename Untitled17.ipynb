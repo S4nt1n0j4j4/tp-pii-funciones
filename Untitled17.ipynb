{
  "nbformat": 4,
  "nbformat_minor": 0,
  "metadata": {
    "colab": {
      "provenance": [],
      "authorship_tag": "ABX9TyPwK99jyws4wc/KTEBe2PJk",
      "include_colab_link": true
    },
    "kernelspec": {
      "name": "python3",
      "display_name": "Python 3"
    },
    "language_info": {
      "name": "python"
    }
  },
  "cells": [
    {
      "cell_type": "markdown",
      "metadata": {
        "id": "view-in-github",
        "colab_type": "text"
      },
      "source": [
        "<a href=\"https://colab.research.google.com/github/S4nt1n0j4j4/tp-pii-funciones/blob/main/Untitled17.ipynb\" target=\"_parent\"><img src=\"https://colab.research.google.com/assets/colab-badge.svg\" alt=\"Open In Colab\"/></a>"
      ]
    },
    {
      "cell_type": "markdown",
      "source": [
        "<h1>ejercicio 1<h1>"
      ],
      "metadata": {
        "id": "FRBPURIvxuKP"
      }
    },
    {
      "cell_type": "code",
      "execution_count": 5,
      "metadata": {
        "id": "77zpOQuLxrPw"
      },
      "outputs": [],
      "source": [
        "def multiplicar_x_dos(numero):\n",
        "  numero = numero * 2\n",
        "  print(numero)\n",
        "\n",
        "  multiplicar_x_dos(5)\n",
        "  multiplicar_x_dos(10)\n",
        "  multiplicar_x_dos(20)"
      ]
    },
    {
      "cell_type": "markdown",
      "source": [
        "<h1>ejercicio 2<h1>"
      ],
      "metadata": {
        "id": "cRl9Ll0-STGX"
      }
    },
    {
      "cell_type": "code",
      "source": [
        "def sumar_todos(*args):\n",
        "  suma = 0\n",
        "  for numero in args:\n",
        "    suma += numero\n",
        "  print(suma)\n",
        "\n",
        "  sumar_todos(1,2,3,4,5)"
      ],
      "metadata": {
        "id": "-h1CpOIpSlG9"
      },
      "execution_count": 6,
      "outputs": []
    },
    {
      "cell_type": "markdown",
      "source": [
        "<h1>ejercicio 3<h1>"
      ],
      "metadata": {
        "id": "Dj58-PZlTi_w"
      }
    },
    {
      "cell_type": "code",
      "source": [
        "def mostrar_inf_persona(**kwargs):\n",
        "  for key, value in kwargs.items():\n",
        "    print(f\"{key}: {value}\")\n",
        "\n",
        "mostrar_inf_persona(nombre=\"Juan\", edad=25, ciudad=\"Madrid\")"
      ],
      "metadata": {
        "id": "owwcWq-BTvi_",
        "outputId": "985629bf-a7de-469d-b961-c9c7ef82cb5a",
        "colab": {
          "base_uri": "https://localhost:8080/"
        }
      },
      "execution_count": 7,
      "outputs": [
        {
          "output_type": "stream",
          "name": "stdout",
          "text": [
            "nombre: Juan\n",
            "edad: 25\n",
            "ciudad: Madrid\n"
          ]
        }
      ]
    },
    {
      "cell_type": "markdown",
      "source": [
        "<h1>ejercicio 4<h1>"
      ],
      "metadata": {
        "id": "uRbMYqV6UpWh"
      }
    },
    {
      "cell_type": "code",
      "source": [
        "numeros = [1, 2, 3, 4, 5, 6, 7, 8, 9, 10]\n",
        "numeros_pares = list(filter(lambda x: x % 2 == 0, numeros))\n",
        "print(numeros_pares)"
      ],
      "metadata": {
        "id": "A6LPejt9UtWv",
        "outputId": "82bc1f55-736e-487f-edec-322f10404f62",
        "colab": {
          "base_uri": "https://localhost:8080/"
        }
      },
      "execution_count": 8,
      "outputs": [
        {
          "output_type": "stream",
          "name": "stdout",
          "text": [
            "[2, 4, 6, 8, 10]\n"
          ]
        }
      ]
    },
    {
      "cell_type": "markdown",
      "source": [
        "<h1>ejercicio 5<h1>"
      ],
      "metadata": {
        "id": "axHUGsWlWLsd"
      }
    },
    {
      "cell_type": "code",
      "source": [
        "def multiplicar_lista(lista, numero_mul):\n",
        "  for numero in lista:\n",
        "    resultado = numero_mul * numero\n",
        "    print(resultado)\n",
        "\n",
        "numeros = [1, 2, 3, 4, 5]\n",
        "multiplicar_lista(numeros, 2)"
      ],
      "metadata": {
        "id": "df-yEynZWO0F",
        "outputId": "5c8f898c-1535-48d7-8c9d-f767e6780f41",
        "colab": {
          "base_uri": "https://localhost:8080/"
        }
      },
      "execution_count": 12,
      "outputs": [
        {
          "output_type": "stream",
          "name": "stdout",
          "text": [
            "2\n",
            "4\n",
            "6\n",
            "8\n",
            "10\n"
          ]
        }
      ]
    },
    {
      "cell_type": "markdown",
      "source": [
        "<h1>ejercicio 6<h1>"
      ],
      "metadata": {
        "id": "C8WLRyUVX6ZB"
      }
    },
    {
      "cell_type": "code",
      "source": [
        "def agregar_elemento(lista, elemento):\n",
        "  lista.append(elemento)\n",
        "  print(lista)\n",
        "\n",
        "numeros = [1, 2, 3, 4, 5]\n",
        "agregar_elemento(numeros, 6)"
      ],
      "metadata": {
        "id": "4AQan0akX-ch",
        "outputId": "9e368f93-30b4-4d6d-b808-ff6bf99d5bb7",
        "colab": {
          "base_uri": "https://localhost:8080/"
        }
      },
      "execution_count": 13,
      "outputs": [
        {
          "output_type": "stream",
          "name": "stdout",
          "text": [
            "[1, 2, 3, 4, 5, 6]\n"
          ]
        }
      ]
    },
    {
      "cell_type": "markdown",
      "source": [
        "<h1>ejercicio 7<h1>"
      ],
      "metadata": {
        "id": "pt-Vinb9YTdR"
      }
    },
    {
      "cell_type": "code",
      "source": [
        "def incrementar_valor(numero):\n",
        "  numero2 = numero + 1\n",
        "  print(numero)\n",
        "\n",
        "valor = 5\n",
        "incrementar_valor(1)"
      ],
      "metadata": {
        "id": "XLqHcxXQYY20",
        "outputId": "8a5e1d94-18da-4653-e83c-789bf33b0aa3",
        "colab": {
          "base_uri": "https://localhost:8080/"
        }
      },
      "execution_count": 14,
      "outputs": [
        {
          "output_type": "stream",
          "name": "stdout",
          "text": [
            "1\n"
          ]
        }
      ]
    },
    {
      "cell_type": "markdown",
      "source": [
        "<h1>ejercicio 8<h1>"
      ],
      "metadata": {
        "id": "wfAYdhW4ZUTg"
      }
    },
    {
      "cell_type": "code",
      "source": [
        "def obtener_mayor_y_menor(lista):\n",
        "  mayor = max(lista)\n",
        "  menor = min(lista)\n",
        "  print(f\"El número mayor es: {mayor}\")\n",
        "  print(f\"El número menor es: {menor}\")\n",
        "\n",
        "numeros = [1, 2, 3, 4, 5]\n",
        "obtener_mayor_y_menor(numeros)"
      ],
      "metadata": {
        "id": "DKtzW8NJZY_n",
        "outputId": "d5d46dd9-4706-4b44-e744-d228f4c732ab",
        "colab": {
          "base_uri": "https://localhost:8080/"
        }
      },
      "execution_count": 15,
      "outputs": [
        {
          "output_type": "stream",
          "name": "stdout",
          "text": [
            "El número mayor es: 5\n",
            "El número menor es: 1\n"
          ]
        }
      ]
    },
    {
      "cell_type": "markdown",
      "source": [
        "<h1>ejercicio 9<h1>"
      ],
      "metadata": {
        "id": "_UkRENQEZ0bC"
      }
    },
    {
      "cell_type": "code",
      "source": [
        "def numeros_primos(numeros):\n",
        "  for i in range(2, numeros + 1):\n",
        "    for n in range(2, i):\n",
        "      if i % n == 0:\n",
        "        break\n",
        "    else:\n",
        "      print(i)\n",
        "\n",
        "numeros_primos(20)"
      ],
      "metadata": {
        "id": "N2jKhY1fZ3sj",
        "outputId": "51559d48-c647-4301-d5aa-6b7fa23ccaa6",
        "colab": {
          "base_uri": "https://localhost:8080/"
        }
      },
      "execution_count": 16,
      "outputs": [
        {
          "output_type": "stream",
          "name": "stdout",
          "text": [
            "2\n",
            "3\n",
            "5\n",
            "7\n",
            "11\n",
            "13\n",
            "17\n",
            "19\n"
          ]
        }
      ]
    }
  ]
}